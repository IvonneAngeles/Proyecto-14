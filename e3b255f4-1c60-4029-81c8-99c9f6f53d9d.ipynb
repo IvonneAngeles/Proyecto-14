{
 "cells": [
  {
   "cell_type": "markdown",
   "metadata": {},
   "source": [
    "# Proyecto Final: Telecomunicaciones: identificar operadores ineficaces¶"
   ]
  },
  {
   "cell_type": "markdown",
   "metadata": {},
   "source": [
    "# CallMeMaybe: telefonía virtual"
   ]
  },
  {
   "cell_type": "markdown",
   "metadata": {},
   "source": [
    "# Contenido\n",
    "\n",
    "1. [Link](#Link)\n",
    "\n",
    "2. [Descripción del análisis](#Descripción-del-análisis)\n",
    "\n",
    "3. [Descripción de los datos](#Descripción-de-los-datos)\n",
    "    \n",
    "4. [Preprocesamiento de datos](#Preprocesamiento-de-datos)\n",
    "\n",
    "5. [Análisis exploratorio de datos](#Análisis-exploratorio-de-datos)\n",
    "\n",
    "6. [Prueba de hipótesis](#Prueba-de-hipótesis)    \n",
    "\n",
    "7. [Conclusiones](#Conclusiones)"
   ]
  },
  {
   "cell_type": "markdown",
   "metadata": {},
   "source": [
    "## Link\n",
    "<a id=\"Link\"></a>"
   ]
  },
  {
   "cell_type": "markdown",
   "metadata": {},
   "source": [
    "**Dashboard:** https://public.tableau.com/views/ProyectoFinal1_17299776240820/Dashboard1?:language=es-ES&publish=yes&:sid=&:redirect=auth&:display_count=n&:origin=viz_share_link\n",
    "\n",
    "**Presentación:** https://drive.google.com/file/d/1Kx0aYMO9eUoN7pSgYi3Q4URiwU2Z0hQc/view?usp=drive_link"
   ]
  },
  {
   "cell_type": "markdown",
   "metadata": {},
   "source": [
    "## Descripción del análisis \n",
    "<a id=\"Descripción del análisis\"></a>"
   ]
  },
  {
   "cell_type": "markdown",
   "metadata": {},
   "source": [
    "Este análisis realizado al servicio de telefonía virtual CallMaybe tiene la finalidad de desarrollar una función que servirá a los supervisores información acerca de los operadores, la información obtenida ayudara a conocer a los operadores menos eficaces, los puntos a considerar para saber si un operador es ineficaz son:\n",
    "\n",
    "- Una gran cantidad de llamadas perdidas, estas pueden ser internas o externas.\n",
    "- Un tiempo de espera prolongado para llamadas entrantes.\n",
    "- Un número reducido de llamadas salientes.\n",
    "\n",
    "Para conocer a los operadores menos eficaces se realizarán un análisis de los datos y se presentarán graficas comprobando la información obtenida. También se realizará una prueba de hipótesis estadísticas."
   ]
  },
  {
   "cell_type": "markdown",
   "metadata": {},
   "source": [
    "## Descripción de los datos\n",
    "<a id=\"Descripción de los datos\"></a>"
   ]
  },
  {
   "cell_type": "code",
   "execution_count": 41,
   "metadata": {},
   "outputs": [],
   "source": [
    "# Importamos librerias\n",
    "import pandas as pd\n",
    "import scipy.stats as stats\n",
    "import datetime as dt\n",
    "import numpy as np\n",
    "import matplotlib.pyplot as plt\n",
    "import seaborn as sns\n",
    "from scipy import stats as st"
   ]
  },
  {
   "cell_type": "code",
   "execution_count": 42,
   "metadata": {},
   "outputs": [],
   "source": [
    "# Carga de datos \n",
    "data = pd.read_csv('/datasets/telecom_dataset_us.csv')\n",
    "clients = pd.read_csv('/datasets/telecom_clients_us.csv')"
   ]
  },
  {
   "cell_type": "code",
   "execution_count": 43,
   "metadata": {},
   "outputs": [
    {
     "name": "stdout",
     "output_type": "stream",
     "text": [
      "<class 'pandas.core.frame.DataFrame'>\n",
      "RangeIndex: 53902 entries, 0 to 53901\n",
      "Data columns (total 9 columns):\n",
      " #   Column               Non-Null Count  Dtype  \n",
      "---  ------               --------------  -----  \n",
      " 0   user_id              53902 non-null  int64  \n",
      " 1   date                 53902 non-null  object \n",
      " 2   direction            53902 non-null  object \n",
      " 3   internal             53785 non-null  object \n",
      " 4   operator_id          45730 non-null  float64\n",
      " 5   is_missed_call       53902 non-null  bool   \n",
      " 6   calls_count          53902 non-null  int64  \n",
      " 7   call_duration        53902 non-null  int64  \n",
      " 8   total_call_duration  53902 non-null  int64  \n",
      "dtypes: bool(1), float64(1), int64(4), object(3)\n",
      "memory usage: 3.3+ MB\n"
     ]
    }
   ],
   "source": [
    "# Información general del dataset data\n",
    "data.info()"
   ]
  },
  {
   "cell_type": "code",
   "execution_count": 44,
   "metadata": {},
   "outputs": [
    {
     "data": {
      "text/html": [
       "<div>\n",
       "<style scoped>\n",
       "    .dataframe tbody tr th:only-of-type {\n",
       "        vertical-align: middle;\n",
       "    }\n",
       "\n",
       "    .dataframe tbody tr th {\n",
       "        vertical-align: top;\n",
       "    }\n",
       "\n",
       "    .dataframe thead th {\n",
       "        text-align: right;\n",
       "    }\n",
       "</style>\n",
       "<table border=\"1\" class=\"dataframe\">\n",
       "  <thead>\n",
       "    <tr style=\"text-align: right;\">\n",
       "      <th></th>\n",
       "      <th>user_id</th>\n",
       "      <th>date</th>\n",
       "      <th>direction</th>\n",
       "      <th>internal</th>\n",
       "      <th>operator_id</th>\n",
       "      <th>is_missed_call</th>\n",
       "      <th>calls_count</th>\n",
       "      <th>call_duration</th>\n",
       "      <th>total_call_duration</th>\n",
       "    </tr>\n",
       "  </thead>\n",
       "  <tbody>\n",
       "    <tr>\n",
       "      <th>0</th>\n",
       "      <td>166377</td>\n",
       "      <td>2019-08-04 00:00:00+03:00</td>\n",
       "      <td>in</td>\n",
       "      <td>False</td>\n",
       "      <td>NaN</td>\n",
       "      <td>True</td>\n",
       "      <td>2</td>\n",
       "      <td>0</td>\n",
       "      <td>4</td>\n",
       "    </tr>\n",
       "    <tr>\n",
       "      <th>1</th>\n",
       "      <td>166377</td>\n",
       "      <td>2019-08-05 00:00:00+03:00</td>\n",
       "      <td>out</td>\n",
       "      <td>True</td>\n",
       "      <td>880022.0</td>\n",
       "      <td>True</td>\n",
       "      <td>3</td>\n",
       "      <td>0</td>\n",
       "      <td>5</td>\n",
       "    </tr>\n",
       "    <tr>\n",
       "      <th>2</th>\n",
       "      <td>166377</td>\n",
       "      <td>2019-08-05 00:00:00+03:00</td>\n",
       "      <td>out</td>\n",
       "      <td>True</td>\n",
       "      <td>880020.0</td>\n",
       "      <td>True</td>\n",
       "      <td>1</td>\n",
       "      <td>0</td>\n",
       "      <td>1</td>\n",
       "    </tr>\n",
       "    <tr>\n",
       "      <th>3</th>\n",
       "      <td>166377</td>\n",
       "      <td>2019-08-05 00:00:00+03:00</td>\n",
       "      <td>out</td>\n",
       "      <td>True</td>\n",
       "      <td>880020.0</td>\n",
       "      <td>False</td>\n",
       "      <td>1</td>\n",
       "      <td>10</td>\n",
       "      <td>18</td>\n",
       "    </tr>\n",
       "    <tr>\n",
       "      <th>4</th>\n",
       "      <td>166377</td>\n",
       "      <td>2019-08-05 00:00:00+03:00</td>\n",
       "      <td>out</td>\n",
       "      <td>False</td>\n",
       "      <td>880022.0</td>\n",
       "      <td>True</td>\n",
       "      <td>3</td>\n",
       "      <td>0</td>\n",
       "      <td>25</td>\n",
       "    </tr>\n",
       "  </tbody>\n",
       "</table>\n",
       "</div>"
      ],
      "text/plain": [
       "   user_id                       date direction internal  operator_id  \\\n",
       "0   166377  2019-08-04 00:00:00+03:00        in    False          NaN   \n",
       "1   166377  2019-08-05 00:00:00+03:00       out     True     880022.0   \n",
       "2   166377  2019-08-05 00:00:00+03:00       out     True     880020.0   \n",
       "3   166377  2019-08-05 00:00:00+03:00       out     True     880020.0   \n",
       "4   166377  2019-08-05 00:00:00+03:00       out    False     880022.0   \n",
       "\n",
       "   is_missed_call  calls_count  call_duration  total_call_duration  \n",
       "0            True            2              0                    4  \n",
       "1            True            3              0                    5  \n",
       "2            True            1              0                    1  \n",
       "3           False            1             10                   18  \n",
       "4            True            3              0                   25  "
      ]
     },
     "execution_count": 44,
     "metadata": {},
     "output_type": "execute_result"
    }
   ],
   "source": [
    "# Mostramos las 5 primeras filas\n",
    "data.head()"
   ]
  },
  {
   "cell_type": "markdown",
   "metadata": {},
   "source": [
    "En general se pude observar que el dataset cuenta con 9 columnas y 53902 filas, otra observación importante es la vista de valores ausentes en las columnas \"internal\" y \"opertator_id\". Se observa la infromacón de los operadores y las operadoras de CallMeMaybe."
   ]
  },
  {
   "cell_type": "code",
   "execution_count": 45,
   "metadata": {},
   "outputs": [
    {
     "name": "stdout",
     "output_type": "stream",
     "text": [
      "<class 'pandas.core.frame.DataFrame'>\n",
      "RangeIndex: 732 entries, 0 to 731\n",
      "Data columns (total 3 columns):\n",
      " #   Column       Non-Null Count  Dtype \n",
      "---  ------       --------------  ----- \n",
      " 0   user_id      732 non-null    int64 \n",
      " 1   tariff_plan  732 non-null    object\n",
      " 2   date_start   732 non-null    object\n",
      "dtypes: int64(1), object(2)\n",
      "memory usage: 17.3+ KB\n"
     ]
    }
   ],
   "source": [
    "# Mostramos la información genaral del dataset clients\n",
    "clients.info()"
   ]
  },
  {
   "cell_type": "code",
   "execution_count": 46,
   "metadata": {},
   "outputs": [
    {
     "data": {
      "text/html": [
       "<div>\n",
       "<style scoped>\n",
       "    .dataframe tbody tr th:only-of-type {\n",
       "        vertical-align: middle;\n",
       "    }\n",
       "\n",
       "    .dataframe tbody tr th {\n",
       "        vertical-align: top;\n",
       "    }\n",
       "\n",
       "    .dataframe thead th {\n",
       "        text-align: right;\n",
       "    }\n",
       "</style>\n",
       "<table border=\"1\" class=\"dataframe\">\n",
       "  <thead>\n",
       "    <tr style=\"text-align: right;\">\n",
       "      <th></th>\n",
       "      <th>user_id</th>\n",
       "      <th>tariff_plan</th>\n",
       "      <th>date_start</th>\n",
       "    </tr>\n",
       "  </thead>\n",
       "  <tbody>\n",
       "    <tr>\n",
       "      <th>0</th>\n",
       "      <td>166713</td>\n",
       "      <td>A</td>\n",
       "      <td>2019-08-15</td>\n",
       "    </tr>\n",
       "    <tr>\n",
       "      <th>1</th>\n",
       "      <td>166901</td>\n",
       "      <td>A</td>\n",
       "      <td>2019-08-23</td>\n",
       "    </tr>\n",
       "    <tr>\n",
       "      <th>2</th>\n",
       "      <td>168527</td>\n",
       "      <td>A</td>\n",
       "      <td>2019-10-29</td>\n",
       "    </tr>\n",
       "    <tr>\n",
       "      <th>3</th>\n",
       "      <td>167097</td>\n",
       "      <td>A</td>\n",
       "      <td>2019-09-01</td>\n",
       "    </tr>\n",
       "    <tr>\n",
       "      <th>4</th>\n",
       "      <td>168193</td>\n",
       "      <td>A</td>\n",
       "      <td>2019-10-16</td>\n",
       "    </tr>\n",
       "  </tbody>\n",
       "</table>\n",
       "</div>"
      ],
      "text/plain": [
       "   user_id tariff_plan  date_start\n",
       "0   166713           A  2019-08-15\n",
       "1   166901           A  2019-08-23\n",
       "2   168527           A  2019-10-29\n",
       "3   167097           A  2019-09-01\n",
       "4   168193           A  2019-10-16"
      ]
     },
     "execution_count": 46,
     "metadata": {},
     "output_type": "execute_result"
    }
   ],
   "source": [
    "# Mostramos las 5 primeras filas clients\n",
    "clients.head()"
   ]
  },
  {
   "cell_type": "markdown",
   "metadata": {},
   "source": [
    "En general se pude observar que el dataset cuenta con 3 columnas y 732 filas, a simple vista no se observan valores ausentes. Se incluye información de los clientes de CallMeMaybe."
   ]
  },
  {
   "cell_type": "markdown",
   "metadata": {},
   "source": [
    "## Preprocesamiento de datos\n",
    "<a id=\"Preprocesamiento de datos\"></a>"
   ]
  },
  {
   "cell_type": "markdown",
   "metadata": {},
   "source": [
    "**Valores ausentes**"
   ]
  },
  {
   "cell_type": "code",
   "execution_count": 47,
   "metadata": {},
   "outputs": [
    {
     "data": {
      "text/plain": [
       "user_id                   0\n",
       "date                      0\n",
       "direction                 0\n",
       "internal                117\n",
       "operator_id            8172\n",
       "is_missed_call            0\n",
       "calls_count               0\n",
       "call_duration             0\n",
       "total_call_duration       0\n",
       "dtype: int64"
      ]
     },
     "execution_count": 47,
     "metadata": {},
     "output_type": "execute_result"
    }
   ],
   "source": [
    "# Buscamos valores ausentes data\n",
    "data.isnull().sum()"
   ]
  },
  {
   "cell_type": "code",
   "execution_count": 48,
   "metadata": {},
   "outputs": [
    {
     "data": {
      "text/plain": [
       "user_id        0\n",
       "tariff_plan    0\n",
       "date_start     0\n",
       "dtype: int64"
      ]
     },
     "execution_count": 48,
     "metadata": {},
     "output_type": "execute_result"
    }
   ],
   "source": [
    "# Buscamos valores ausentes clients\n",
    "clients.isnull().sum()"
   ]
  },
  {
   "cell_type": "code",
   "execution_count": 49,
   "metadata": {},
   "outputs": [
    {
     "data": {
      "text/plain": [
       "0"
      ]
     },
     "execution_count": 49,
     "metadata": {},
     "output_type": "execute_result"
    }
   ],
   "source": [
    "# Reemplazamos los valores NaN en la columna operator_id con un número para identificarlo\n",
    "data['operator_id'].fillna('800000', inplace=True)\n",
    "# Verificamos que ya no existan valores ausentes\n",
    "data['operator_id'].isna().sum()"
   ]
  },
  {
   "cell_type": "code",
   "execution_count": 50,
   "metadata": {},
   "outputs": [
    {
     "data": {
      "text/plain": [
       "False    47621\n",
       "True      6164\n",
       "Name: internal, dtype: int64"
      ]
     },
     "execution_count": 50,
     "metadata": {},
     "output_type": "execute_result"
    }
   ],
   "source": [
    "# Mostamos los valores que tiene la columna internal para conocer cual el valor frecuente\n",
    "data['internal'].value_counts()"
   ]
  },
  {
   "cell_type": "code",
   "execution_count": 51,
   "metadata": {},
   "outputs": [
    {
     "data": {
      "text/plain": [
       "0"
      ]
     },
     "execution_count": 51,
     "metadata": {},
     "output_type": "execute_result"
    }
   ],
   "source": [
    "# Reemplazamos los valores NaN en la columna internal con el valor más frecuente\n",
    "data['internal'].fillna('False', inplace=True)\n",
    "# Verificamos que ya no existan valores ausentes\n",
    "data['internal'].isna().sum()"
   ]
  },
  {
   "cell_type": "markdown",
   "metadata": {},
   "source": [
    "Para el dataset data se encontraron valores ausentes en dos columnas \"internal\" y \"operator_id\", para la columna \"interna\" se buscó el valor frecuente que fue al que se le asigno los valores ausentes con esa variable, para la columna \"operator_id\" se optó por utilizar un número de id similar a los que incluía el dataset pero que se pueda identificar. Para el dataset clients no se encontraron valores ausentes."
   ]
  },
  {
   "cell_type": "markdown",
   "metadata": {},
   "source": [
    "**Valores duplicados**"
   ]
  },
  {
   "cell_type": "code",
   "execution_count": 52,
   "metadata": {},
   "outputs": [
    {
     "data": {
      "text/plain": [
       "4900"
      ]
     },
     "execution_count": 52,
     "metadata": {},
     "output_type": "execute_result"
    }
   ],
   "source": [
    "# Buscamos valores duplicados data\n",
    "data.duplicated().sum()"
   ]
  },
  {
   "cell_type": "code",
   "execution_count": 53,
   "metadata": {},
   "outputs": [
    {
     "data": {
      "text/plain": [
       "0"
      ]
     },
     "execution_count": 53,
     "metadata": {},
     "output_type": "execute_result"
    }
   ],
   "source": [
    "# Eliminamos los datos duplicados data\n",
    "data = data.drop_duplicates().reset_index(drop=True)\n",
    "# Comprobamos que se eliminaras los datos duplicados\n",
    "data.duplicated().sum()"
   ]
  },
  {
   "cell_type": "code",
   "execution_count": 54,
   "metadata": {},
   "outputs": [
    {
     "data": {
      "text/plain": [
       "0"
      ]
     },
     "execution_count": 54,
     "metadata": {},
     "output_type": "execute_result"
    }
   ],
   "source": [
    "# Buscamos valores duplicados clients\n",
    "clients.duplicated().sum()"
   ]
  },
  {
   "cell_type": "markdown",
   "metadata": {},
   "source": [
    "Se encontró un total de 4900 datos duplicados en el dataset data, los cuales se eliminaron, para así evitar errores en las métricas con las que se estará trabajando en este análisis. Para el dataset clients no se encontraron valores duplicados."
   ]
  },
  {
   "cell_type": "markdown",
   "metadata": {},
   "source": [
    "**Tipo de datos**"
   ]
  },
  {
   "cell_type": "code",
   "execution_count": 55,
   "metadata": {},
   "outputs": [
    {
     "data": {
      "text/plain": [
       "user_id                 int64\n",
       "date                   object\n",
       "direction              object\n",
       "internal               object\n",
       "operator_id            object\n",
       "is_missed_call           bool\n",
       "calls_count             int64\n",
       "call_duration           int64\n",
       "total_call_duration     int64\n",
       "dtype: object"
      ]
     },
     "execution_count": 55,
     "metadata": {},
     "output_type": "execute_result"
    }
   ],
   "source": [
    "# Mostramos el tipo de datos data\n",
    "data.dtypes"
   ]
  },
  {
   "cell_type": "code",
   "execution_count": 56,
   "metadata": {},
   "outputs": [
    {
     "name": "stdout",
     "output_type": "stream",
     "text": [
      "datetime64[ns, pytz.FixedOffset(180)]\n"
     ]
    }
   ],
   "source": [
    "# Cambiamos el tipo de dato de la columna date\n",
    "data['date'] = pd.to_datetime(data[\"date\"], format='%Y-%m-%d')\n",
    "print(data['date'].dtype)"
   ]
  },
  {
   "cell_type": "code",
   "execution_count": 57,
   "metadata": {},
   "outputs": [
    {
     "name": "stdout",
     "output_type": "stream",
     "text": [
      "bool\n"
     ]
    }
   ],
   "source": [
    "# Cambiamos el tipo de dato de la columna is_missed_call para trabajar de una mejor manera\n",
    "data['is_missed_call'] = data['is_missed_call'].astype('bool')\n",
    "print(data['is_missed_call'].dtype)"
   ]
  },
  {
   "cell_type": "code",
   "execution_count": 58,
   "metadata": {},
   "outputs": [
    {
     "name": "stdout",
     "output_type": "stream",
     "text": [
      "bool\n"
     ]
    }
   ],
   "source": [
    "# Cambiamos el tipo de dato de la columna internal para trabajar de una mejor manera\n",
    "data['internal'] = data['internal'].astype('bool')\n",
    "print(data['internal'].dtype)"
   ]
  },
  {
   "cell_type": "code",
   "execution_count": 59,
   "metadata": {},
   "outputs": [
    {
     "name": "stdout",
     "output_type": "stream",
     "text": [
      "int64\n"
     ]
    }
   ],
   "source": [
    "# Cambiamos el tipo de dato de la columna operator_id a entero \n",
    "data['operator_id'] = data['operator_id'].astype('int')\n",
    "print(data['operator_id'].dtype)"
   ]
  },
  {
   "cell_type": "code",
   "execution_count": 60,
   "metadata": {},
   "outputs": [
    {
     "data": {
      "text/plain": [
       "user_id         int64\n",
       "tariff_plan    object\n",
       "date_start     object\n",
       "dtype: object"
      ]
     },
     "execution_count": 60,
     "metadata": {},
     "output_type": "execute_result"
    }
   ],
   "source": [
    "# Mostramos el tipo de datos clients\n",
    "clients.dtypes"
   ]
  },
  {
   "cell_type": "code",
   "execution_count": 61,
   "metadata": {},
   "outputs": [
    {
     "name": "stdout",
     "output_type": "stream",
     "text": [
      "datetime64[ns]\n"
     ]
    }
   ],
   "source": [
    "# Convertimos la columnas al tipo de dato correspondiente\n",
    "clients['date_start'] = pd.to_datetime(clients[\"date_start\"], format='%Y-%m-%d')\n",
    "print(clients['date_start'].dtype)"
   ]
  },
  {
   "cell_type": "markdown",
   "metadata": {},
   "source": [
    "Se realizaron cambios en el tipo de datos del dataset data al tipo de dato correspondiente, para la columna \"date\", \"is_missed_call\", \"internal\" y \"operator_id\", para el dataset clientes solo se cambio el tipo de dato en la columna \"date_start\"."
   ]
  },
  {
   "cell_type": "markdown",
   "metadata": {},
   "source": [
    "## Análisis exploratorio de datos\n",
    "<a id=\"Análisis exploratorio de datos\"></a>"
   ]
  },
  {
   "cell_type": "code",
   "execution_count": 62,
   "metadata": {},
   "outputs": [
    {
     "data": {
      "text/html": [
       "<div>\n",
       "<style scoped>\n",
       "    .dataframe tbody tr th:only-of-type {\n",
       "        vertical-align: middle;\n",
       "    }\n",
       "\n",
       "    .dataframe tbody tr th {\n",
       "        vertical-align: top;\n",
       "    }\n",
       "\n",
       "    .dataframe thead th {\n",
       "        text-align: right;\n",
       "    }\n",
       "</style>\n",
       "<table border=\"1\" class=\"dataframe\">\n",
       "  <thead>\n",
       "    <tr style=\"text-align: right;\">\n",
       "      <th></th>\n",
       "      <th>user_id</th>\n",
       "      <th>operator_id</th>\n",
       "      <th>calls_count</th>\n",
       "      <th>call_duration</th>\n",
       "      <th>total_call_duration</th>\n",
       "    </tr>\n",
       "  </thead>\n",
       "  <tbody>\n",
       "    <tr>\n",
       "      <th>count</th>\n",
       "      <td>49002.000000</td>\n",
       "      <td>49002.000000</td>\n",
       "      <td>49002.000000</td>\n",
       "      <td>49002.000000</td>\n",
       "      <td>49002.000000</td>\n",
       "    </tr>\n",
       "    <tr>\n",
       "      <th>mean</th>\n",
       "      <td>167294.892759</td>\n",
       "      <td>898793.470920</td>\n",
       "      <td>16.462777</td>\n",
       "      <td>866.282091</td>\n",
       "      <td>1156.558202</td>\n",
       "    </tr>\n",
       "    <tr>\n",
       "      <th>std</th>\n",
       "      <td>598.558965</td>\n",
       "      <td>46192.666641</td>\n",
       "      <td>63.604098</td>\n",
       "      <td>3775.503352</td>\n",
       "      <td>4451.473661</td>\n",
       "    </tr>\n",
       "    <tr>\n",
       "      <th>min</th>\n",
       "      <td>166377.000000</td>\n",
       "      <td>800000.000000</td>\n",
       "      <td>1.000000</td>\n",
       "      <td>0.000000</td>\n",
       "      <td>0.000000</td>\n",
       "    </tr>\n",
       "    <tr>\n",
       "      <th>25%</th>\n",
       "      <td>166782.000000</td>\n",
       "      <td>890416.000000</td>\n",
       "      <td>1.000000</td>\n",
       "      <td>0.000000</td>\n",
       "      <td>46.000000</td>\n",
       "    </tr>\n",
       "    <tr>\n",
       "      <th>50%</th>\n",
       "      <td>167158.000000</td>\n",
       "      <td>906406.000000</td>\n",
       "      <td>4.000000</td>\n",
       "      <td>37.000000</td>\n",
       "      <td>208.000000</td>\n",
       "    </tr>\n",
       "    <tr>\n",
       "      <th>75%</th>\n",
       "      <td>167819.000000</td>\n",
       "      <td>929884.000000</td>\n",
       "      <td>12.000000</td>\n",
       "      <td>570.000000</td>\n",
       "      <td>901.000000</td>\n",
       "    </tr>\n",
       "    <tr>\n",
       "      <th>max</th>\n",
       "      <td>168606.000000</td>\n",
       "      <td>973286.000000</td>\n",
       "      <td>4817.000000</td>\n",
       "      <td>144395.000000</td>\n",
       "      <td>166155.000000</td>\n",
       "    </tr>\n",
       "  </tbody>\n",
       "</table>\n",
       "</div>"
      ],
      "text/plain": [
       "             user_id    operator_id   calls_count  call_duration  \\\n",
       "count   49002.000000   49002.000000  49002.000000   49002.000000   \n",
       "mean   167294.892759  898793.470920     16.462777     866.282091   \n",
       "std       598.558965   46192.666641     63.604098    3775.503352   \n",
       "min    166377.000000  800000.000000      1.000000       0.000000   \n",
       "25%    166782.000000  890416.000000      1.000000       0.000000   \n",
       "50%    167158.000000  906406.000000      4.000000      37.000000   \n",
       "75%    167819.000000  929884.000000     12.000000     570.000000   \n",
       "max    168606.000000  973286.000000   4817.000000  144395.000000   \n",
       "\n",
       "       total_call_duration  \n",
       "count         49002.000000  \n",
       "mean           1156.558202  \n",
       "std            4451.473661  \n",
       "min               0.000000  \n",
       "25%              46.000000  \n",
       "50%             208.000000  \n",
       "75%             901.000000  \n",
       "max          166155.000000  "
      ]
     },
     "execution_count": 62,
     "metadata": {},
     "output_type": "execute_result"
    }
   ],
   "source": [
    "# Mostramos las estadísticas descriptivas\n",
    "data.describe()"
   ]
  },
  {
   "cell_type": "markdown",
   "metadata": {},
   "source": [
    "Antes de iniciar el análisis observamos la información estadística de los datos, observamos que el promedio de la duración de las llamadas es de 866.28, la duración mínima de las llamadas es de 0 y el máximo es de 144,395, el promedio del número de llamadas es de 16.46, el mínimo es 1 y el máximo es de 4,817."
   ]
  },
  {
   "cell_type": "code",
   "execution_count": 63,
   "metadata": {},
   "outputs": [
    {
     "data": {
      "text/html": [
       "<div>\n",
       "<style scoped>\n",
       "    .dataframe tbody tr th:only-of-type {\n",
       "        vertical-align: middle;\n",
       "    }\n",
       "\n",
       "    .dataframe tbody tr th {\n",
       "        vertical-align: top;\n",
       "    }\n",
       "\n",
       "    .dataframe thead th {\n",
       "        text-align: right;\n",
       "    }\n",
       "</style>\n",
       "<table border=\"1\" class=\"dataframe\">\n",
       "  <thead>\n",
       "    <tr style=\"text-align: right;\">\n",
       "      <th></th>\n",
       "      <th>user_id</th>\n",
       "      <th>date</th>\n",
       "      <th>direction</th>\n",
       "      <th>internal</th>\n",
       "      <th>operator_id</th>\n",
       "      <th>is_missed_call</th>\n",
       "      <th>calls_count</th>\n",
       "      <th>call_duration</th>\n",
       "      <th>total_call_duration</th>\n",
       "      <th>waiting_time</th>\n",
       "    </tr>\n",
       "  </thead>\n",
       "  <tbody>\n",
       "    <tr>\n",
       "      <th>0</th>\n",
       "      <td>166377</td>\n",
       "      <td>2019-08-04 00:00:00+03:00</td>\n",
       "      <td>in</td>\n",
       "      <td>False</td>\n",
       "      <td>800000</td>\n",
       "      <td>True</td>\n",
       "      <td>2</td>\n",
       "      <td>0</td>\n",
       "      <td>4</td>\n",
       "      <td>4</td>\n",
       "    </tr>\n",
       "    <tr>\n",
       "      <th>1</th>\n",
       "      <td>166377</td>\n",
       "      <td>2019-08-05 00:00:00+03:00</td>\n",
       "      <td>out</td>\n",
       "      <td>True</td>\n",
       "      <td>880022</td>\n",
       "      <td>True</td>\n",
       "      <td>3</td>\n",
       "      <td>0</td>\n",
       "      <td>5</td>\n",
       "      <td>5</td>\n",
       "    </tr>\n",
       "    <tr>\n",
       "      <th>2</th>\n",
       "      <td>166377</td>\n",
       "      <td>2019-08-05 00:00:00+03:00</td>\n",
       "      <td>out</td>\n",
       "      <td>True</td>\n",
       "      <td>880020</td>\n",
       "      <td>True</td>\n",
       "      <td>1</td>\n",
       "      <td>0</td>\n",
       "      <td>1</td>\n",
       "      <td>1</td>\n",
       "    </tr>\n",
       "    <tr>\n",
       "      <th>3</th>\n",
       "      <td>166377</td>\n",
       "      <td>2019-08-05 00:00:00+03:00</td>\n",
       "      <td>out</td>\n",
       "      <td>True</td>\n",
       "      <td>880020</td>\n",
       "      <td>False</td>\n",
       "      <td>1</td>\n",
       "      <td>10</td>\n",
       "      <td>18</td>\n",
       "      <td>8</td>\n",
       "    </tr>\n",
       "    <tr>\n",
       "      <th>4</th>\n",
       "      <td>166377</td>\n",
       "      <td>2019-08-05 00:00:00+03:00</td>\n",
       "      <td>out</td>\n",
       "      <td>False</td>\n",
       "      <td>880022</td>\n",
       "      <td>True</td>\n",
       "      <td>3</td>\n",
       "      <td>0</td>\n",
       "      <td>25</td>\n",
       "      <td>25</td>\n",
       "    </tr>\n",
       "  </tbody>\n",
       "</table>\n",
       "</div>"
      ],
      "text/plain": [
       "   user_id                      date direction  internal  operator_id  \\\n",
       "0   166377 2019-08-04 00:00:00+03:00        in     False       800000   \n",
       "1   166377 2019-08-05 00:00:00+03:00       out      True       880022   \n",
       "2   166377 2019-08-05 00:00:00+03:00       out      True       880020   \n",
       "3   166377 2019-08-05 00:00:00+03:00       out      True       880020   \n",
       "4   166377 2019-08-05 00:00:00+03:00       out     False       880022   \n",
       "\n",
       "   is_missed_call  calls_count  call_duration  total_call_duration  \\\n",
       "0            True            2              0                    4   \n",
       "1            True            3              0                    5   \n",
       "2            True            1              0                    1   \n",
       "3           False            1             10                   18   \n",
       "4            True            3              0                   25   \n",
       "\n",
       "   waiting_time  \n",
       "0             4  \n",
       "1             5  \n",
       "2             1  \n",
       "3             8  \n",
       "4            25  "
      ]
     },
     "execution_count": 63,
     "metadata": {},
     "output_type": "execute_result"
    }
   ],
   "source": [
    "# Creamos una columna para conocer el tiempo de espera\n",
    "data['waiting_time'] = data['total_call_duration'] - data['call_duration']\n",
    "data.head()"
   ]
  },
  {
   "cell_type": "code",
   "execution_count": 64,
   "metadata": {},
   "outputs": [
    {
     "data": {
      "image/png": "[encoded data removed]",
      "text/plain": [
       "<Figure size 1000x600 with 1 Axes>"
      ]
     },
     "metadata": {},
     "output_type": "display_data"
    }
   ],
   "source": [
    "# Graficamos el tiempo de espera\n",
    "plt.figure(figsize=(10, 6))\n",
    "sns.scatterplot(data=data, x='waiting_time', y='calls_count', hue='direction', palette='Set2')\n",
    "# Agregamos etiquetas y titulo\n",
    "plt.title(\"Tiempo de espera llamadas Entrantes VS Salientes\")\n",
    "plt.xlabel('Tiempo de espera (minutos)')\n",
    "plt.ylabel(\"Número de llamadas\")\n",
    "#plt.xticks(rotation=45)\n",
    "plt.show()"
   ]
  },
  {
   "cell_type": "markdown",
   "metadata": {},
   "source": [
    "En el grafico podemos observar las llamadas entrantes tienen menos tiempo de espera, en comparación las llamadas salientes tienen un tiempo de espera prolongado. También podemos decir que una parte importante de las llamadas realizadas tanto entrantes como las salientes se concentra en los primeros minutos del tiempo de espera."
   ]
  },
  {
   "cell_type": "code",
   "execution_count": 65,
   "metadata": {},
   "outputs": [
    {
     "name": "stdout",
     "output_type": "stream",
     "text": [
      "     operator_id  is_missed_call\n",
      "0         800000            7343\n",
      "79        891410             119\n",
      "29        885876             115\n",
      "80        891414             113\n",
      "204       901880             111\n"
     ]
    }
   ],
   "source": [
    "# Buscamos a los operadores que tienen más llamadas perdidas\n",
    "missed_calls_by_operator = data.groupby('operator_id')['is_missed_call'].sum().reset_index()\n",
    "missed_calls_by_operator= missed_calls_by_operator.sort_values(ascending=False, by='is_missed_call')\n",
    "print(missed_calls_by_operator.head())"
   ]
  },
  {
   "cell_type": "code",
   "execution_count": 66,
   "metadata": {},
   "outputs": [
    {
     "data": {
      "image/png": "[encoded data removed]",
      "text/plain": [
       "<Figure size 1000x600 with 1 Axes>"
      ]
     },
     "metadata": {},
     "output_type": "display_data"
    }
   ],
   "source": [
    "# Graficamos las llamadas perdidas\n",
    "plt.figure(figsize=(10, 6))\n",
    "sns.barplot(data=missed_calls_by_operator.head(20), x='operator_id', y='is_missed_call', palette='Set2')\n",
    "# Agregamos titulo y etiqueta\n",
    "plt.title(\"Operadores con más llamadas perdidas\")\n",
    "plt.xlabel('Operador')\n",
    "plt.xticks(rotation=45)\n",
    "plt.show()"
   ]
  },
  {
   "cell_type": "markdown",
   "metadata": {},
   "source": [
    "En estre grafico un dato destaca de todos, el operador con el valor ausente al que se agregó como \"800000\", tiene la mayor cantidad de llamadas perdidas en comparación con los demás operadores quienes no superan las 120 llamadas perdidas."
   ]
  },
  {
   "cell_type": "code",
   "execution_count": 67,
   "metadata": {},
   "outputs": [
    {
     "name": "stdout",
     "output_type": "stream",
     "text": [
      "     operator_id  waiting_time\n",
      "552       925922   5805.027397\n",
      "30        885890   5703.565217\n",
      "584       929428   5478.123077\n",
      "29        885876   4838.459364\n",
      "318       908640   3537.860465\n"
     ]
    }
   ],
   "source": [
    "# Buscamos a los operadores con la promedio mayor de tiempo de espera\n",
    "waiting_time_by_operator = data.groupby('operator_id')['waiting_time'].mean().reset_index()\n",
    "waiting_time_by_operator = waiting_time_by_operator.sort_values(ascending=False, by='waiting_time')\n",
    "print(waiting_time_by_operator.head())"
   ]
  },
  {
   "cell_type": "code",
   "execution_count": 68,
   "metadata": {},
   "outputs": [
    {
     "data": {
      "image/png": "[encoded data removed]",
      "text/plain": [
       "<Figure size 1000x600 with 1 Axes>"
      ]
     },
     "metadata": {},
     "output_type": "display_data"
    }
   ],
   "source": [
    "# Graficamos el promedio de tiempo de espera de cada operador\n",
    "plt.figure(figsize=(10, 6))\n",
    "sns.barplot(data=waiting_time_by_operator.head(20), x='operator_id', y='waiting_time', palette='Set2')\n",
    "# Agregamos titulo y etiquetas\n",
    "plt.title('Tiempo de espera por operador')\n",
    "plt.xlabel('Operador')\n",
    "plt.xticks(rotation=45)\n",
    "plt.show()"
   ]
  },
  {
   "cell_type": "markdown",
   "metadata": {},
   "source": [
    "Como se puede observar en la gráfica el tiempo de esperada del operador \"925922\" es la máxima, con un promedio menor pero no alejado del más alto están los operadores \"885890\", \"929428\" y \"885876\". También existen operadores que no superan la media de 2000 como el operador \"919374\" y otros."
   ]
  },
  {
   "cell_type": "code",
   "execution_count": 69,
   "metadata": {},
   "outputs": [
    {
     "name": "stdout",
     "output_type": "stream",
     "text": [
      "     operator_id  calls_count\n",
      "217       906076            1\n",
      "783       954284            1\n",
      "606       939698            1\n",
      "782       954086            1\n",
      "842       963716            1\n"
     ]
    }
   ],
   "source": [
    "# Buscamos a los operadores con menor número de llamadas salientes\n",
    "outgoing_calls_by_operator = data[data['direction'] == 'out'].groupby('operator_id')['calls_count'].sum().reset_index()\n",
    "outgoing_calls_by_operator = outgoing_calls_by_operator.sort_values(ascending=True, by='calls_count')\n",
    "print(outgoing_calls_by_operator.head())"
   ]
  },
  {
   "cell_type": "code",
   "execution_count": 70,
   "metadata": {},
   "outputs": [
    {
     "data": {
      "image/png": "[encoded data removed]",
      "text/plain": [
       "<Figure size 1000x600 with 1 Axes>"
      ]
     },
     "metadata": {},
     "output_type": "display_data"
    }
   ],
   "source": [
    "# Graficamos a los operadores con un número menor de llamadas salientes\n",
    "plt.figure(figsize=(10, 6))\n",
    "sns.lineplot(data=outgoing_calls_by_operator, x='operator_id', y='calls_count', palette='Set2')\n",
    "# Agregamos titulo y etiquetas\n",
    "plt.title('Operadores con menos llamadas salientes')\n",
    "plt.xlabel('Operador')\n",
    "plt.xticks(rotation=45)\n",
    "plt.show()"
   ]
  },
  {
   "cell_type": "code",
   "execution_count": 71,
   "metadata": {},
   "outputs": [
    {
     "name": "stdout",
     "output_type": "stream",
     "text": [
      "Operadores que solo realizaron una llamada operator_id    61\n",
      "calls_count     1\n",
      "dtype: int64\n",
      "     operator_id  calls_count\n",
      "217       906076            1\n",
      "783       954284            1\n",
      "606       939698            1\n",
      "782       954086            1\n",
      "842       963716            1\n"
     ]
    }
   ],
   "source": [
    "# Buscamos cuantos operadores realizaron una llamada\n",
    "operators_with_one_call = outgoing_calls_by_operator[outgoing_calls_by_operator['calls_count'] == 1]\n",
    "print('Operadores que solo realizaron una llamada', operators_with_one_call.nunique())\n",
    "print(operators_with_one_call.head())"
   ]
  },
  {
   "cell_type": "markdown",
   "metadata": {},
   "source": [
    "En la grafica podemos observar a dos operadores que tienen una cantidad alta de operadores que solo han realizado una llamada saliente. Otra parte consederable de operadores si reliza llamadas salientes. Además 61 operadores solo realizaron una llamada."
   ]
  },
  {
   "cell_type": "code",
   "execution_count": 72,
   "metadata": {},
   "outputs": [
    {
     "name": "stdout",
     "output_type": "stream",
     "text": [
      "   operator_id  is_missed_call  waiting_time  calls_count\n",
      "0       800000            7343    170.209898          521\n",
      "1       891410             119    128.655172         2737\n",
      "2       885876             115   4838.459364        58437\n",
      "3       891414             113     92.000000         2498\n",
      "4       901880             111    166.811258         2362\n"
     ]
    }
   ],
   "source": [
    "# Combinamos las metricas para obtener un DataFrame\n",
    "operator_metrics = missed_calls_by_operator.merge(waiting_time_by_operator, on='operator_id').merge(outgoing_calls_by_operator, on='operator_id')\n",
    "print(operator_metrics.head())"
   ]
  },
  {
   "cell_type": "code",
   "execution_count": 73,
   "metadata": {},
   "outputs": [
    {
     "data": {
      "text/html": [
       "<div>\n",
       "<style scoped>\n",
       "    .dataframe tbody tr th:only-of-type {\n",
       "        vertical-align: middle;\n",
       "    }\n",
       "\n",
       "    .dataframe tbody tr th {\n",
       "        vertical-align: top;\n",
       "    }\n",
       "\n",
       "    .dataframe thead th {\n",
       "        text-align: right;\n",
       "    }\n",
       "</style>\n",
       "<table border=\"1\" class=\"dataframe\">\n",
       "  <thead>\n",
       "    <tr style=\"text-align: right;\">\n",
       "      <th></th>\n",
       "      <th>operator_id</th>\n",
       "      <th>is_missed_call</th>\n",
       "      <th>waiting_time</th>\n",
       "      <th>calls_count</th>\n",
       "    </tr>\n",
       "  </thead>\n",
       "  <tbody>\n",
       "    <tr>\n",
       "      <th>count</th>\n",
       "      <td>883.000000</td>\n",
       "      <td>883.000000</td>\n",
       "      <td>883.000000</td>\n",
       "      <td>883.000000</td>\n",
       "    </tr>\n",
       "    <tr>\n",
       "      <th>mean</th>\n",
       "      <td>925516.031710</td>\n",
       "      <td>24.218573</td>\n",
       "      <td>259.290077</td>\n",
       "      <td>689.540204</td>\n",
       "    </tr>\n",
       "    <tr>\n",
       "      <th>std</th>\n",
       "      <td>23237.603272</td>\n",
       "      <td>247.328192</td>\n",
       "      <td>554.962312</td>\n",
       "      <td>3121.188227</td>\n",
       "    </tr>\n",
       "    <tr>\n",
       "      <th>min</th>\n",
       "      <td>800000.000000</td>\n",
       "      <td>0.000000</td>\n",
       "      <td>0.000000</td>\n",
       "      <td>1.000000</td>\n",
       "    </tr>\n",
       "    <tr>\n",
       "      <th>25%</th>\n",
       "      <td>906393.000000</td>\n",
       "      <td>2.000000</td>\n",
       "      <td>25.928571</td>\n",
       "      <td>11.000000</td>\n",
       "    </tr>\n",
       "    <tr>\n",
       "      <th>50%</th>\n",
       "      <td>924958.000000</td>\n",
       "      <td>9.000000</td>\n",
       "      <td>57.315789</td>\n",
       "      <td>90.000000</td>\n",
       "    </tr>\n",
       "    <tr>\n",
       "      <th>75%</th>\n",
       "      <td>943442.000000</td>\n",
       "      <td>22.000000</td>\n",
       "      <td>212.401609</td>\n",
       "      <td>591.500000</td>\n",
       "    </tr>\n",
       "    <tr>\n",
       "      <th>max</th>\n",
       "      <td>973120.000000</td>\n",
       "      <td>7343.000000</td>\n",
       "      <td>5805.027397</td>\n",
       "      <td>58977.000000</td>\n",
       "    </tr>\n",
       "  </tbody>\n",
       "</table>\n",
       "</div>"
      ],
      "text/plain": [
       "         operator_id  is_missed_call  waiting_time   calls_count\n",
       "count     883.000000      883.000000    883.000000    883.000000\n",
       "mean   925516.031710       24.218573    259.290077    689.540204\n",
       "std     23237.603272      247.328192    554.962312   3121.188227\n",
       "min    800000.000000        0.000000      0.000000      1.000000\n",
       "25%    906393.000000        2.000000     25.928571     11.000000\n",
       "50%    924958.000000        9.000000     57.315789     90.000000\n",
       "75%    943442.000000       22.000000    212.401609    591.500000\n",
       "max    973120.000000     7343.000000   5805.027397  58977.000000"
      ]
     },
     "execution_count": 73,
     "metadata": {},
     "output_type": "execute_result"
    }
   ],
   "source": [
    "# Mostramos las estadístocas de las metricas\n",
    "operator_metrics.describe()"
   ]
  },
  {
   "cell_type": "markdown",
   "metadata": {},
   "source": [
    "Usamos la media de las métricas para usarlas como punto de referencia y así conocer a los operadores que son ineficaces. La media de las llamadas perdidas es 24, la media del tiempo de espero es de 259 y la media de las llamadas realizadas es de 689."
   ]
  },
  {
   "cell_type": "code",
   "execution_count": 74,
   "metadata": {},
   "outputs": [
    {
     "name": "stdout",
     "output_type": "stream",
     "text": [
      "Operadores ineficaces: [913942, 913938]\n"
     ]
    }
   ],
   "source": [
    "# Función para identificar a los operadores ineficaces\n",
    "def inefficient_operators(operator_metrics):\n",
    "    # Filtrar los operadores con las medias de las métricas obtenidas\n",
    "    inefficient = operator_metrics[\n",
    "        (operator_metrics['is_missed_call'] > 24) &\n",
    "        (operator_metrics['waiting_time'] > 259) &\n",
    "        (operator_metrics['calls_count'] < 689)\n",
    "    ]\n",
    "    # Se regresará una lista de los operadores que cumplan con las métricas \n",
    "    return inefficient['operator_id'].tolist()\n",
    "\n",
    "ineffective_list = inefficient_operators(operator_metrics)\n",
    "\n",
    "print('Operadores ineficaces:', ineffective_list)"
   ]
  },
  {
   "cell_type": "markdown",
   "metadata": {},
   "source": [
    "Como podemos ver la función arroja a dos id de los operadores que a través de las méticas se consideran como operadores ineficaces."
   ]
  },
  {
   "cell_type": "markdown",
   "metadata": {},
   "source": [
    "## Prueba de hipótesis\n",
    "<a id=\"Prueba de hipótesis\"></a>"
   ]
  },
  {
   "cell_type": "markdown",
   "metadata": {},
   "source": [
    "**Hipótesis nula:** El tiempo de espera de las llamadas salientes que realizan los operadores es diferente para las llamadas entrantes.\n",
    "\n",
    "**Hipótesis alternativa:** El tiempo de espera de las llamadas salientes que realizan los operadores no es diferente para las llamadas entrantes."
   ]
  },
  {
   "cell_type": "code",
   "execution_count": 75,
   "metadata": {},
   "outputs": [],
   "source": [
    "# Preparamos los datos para la hipótesis\n",
    "test_group_calls_in =  data[data['direction'] == 'in']\n",
    "test_group_calls_out = data[data['direction'] == 'out']\n",
    "test_group_in = test_group_calls_in.groupby('direction')['waiting_time'].sum()\n",
    "test_group_out = test_group_calls_out.groupby('direction')['waiting_time'].sum()"
   ]
  },
  {
   "cell_type": "code",
   "execution_count": 76,
   "metadata": {},
   "outputs": [
    {
     "name": "stdout",
     "output_type": "stream",
     "text": [
      "valor p:  1.0\n",
      "No podemos rechazar la hipótesis nula\n"
     ]
    }
   ],
   "source": [
    "# Hacemos la prueba de hipótesis \n",
    "\n",
    "alpha = 0.05 # significancia estadística\n",
    "\n",
    "results_1 = st.mannwhitneyu(test_group_in, test_group_out, alternative='two-sided')\n",
    "\n",
    "print('valor p: ', results_1.pvalue) \n",
    "\n",
    "if results_1.pvalue < alpha: \n",
    "    print(\"Rechazamos la hipótesis nula\")\n",
    "else:\n",
    "    print(\"No podemos rechazar la hipótesis nula\")"
   ]
  },
  {
   "cell_type": "markdown",
   "metadata": {},
   "source": [
    "No podemos rechar la hipótesis de que el tiempo de espera para las llamadas entrantes es diferente para las llamadas salientes."
   ]
  },
  {
   "cell_type": "markdown",
   "metadata": {},
   "source": [
    "**Hipótesis nula:** El tiempo de espera para las llamadas que realizan los operadores es diferente para el plan de tarifa B y C.\n",
    "\n",
    "**Hipótesis alternativa:** El tiempo de espera para las llamadas que realizan los operadores no es diferente para el plan de tarifa B y C."
   ]
  },
  {
   "cell_type": "code",
   "execution_count": 77,
   "metadata": {},
   "outputs": [
    {
     "data": {
      "text/html": [
       "<div>\n",
       "<style scoped>\n",
       "    .dataframe tbody tr th:only-of-type {\n",
       "        vertical-align: middle;\n",
       "    }\n",
       "\n",
       "    .dataframe tbody tr th {\n",
       "        vertical-align: top;\n",
       "    }\n",
       "\n",
       "    .dataframe thead th {\n",
       "        text-align: right;\n",
       "    }\n",
       "</style>\n",
       "<table border=\"1\" class=\"dataframe\">\n",
       "  <thead>\n",
       "    <tr style=\"text-align: right;\">\n",
       "      <th></th>\n",
       "      <th>user_id</th>\n",
       "      <th>date</th>\n",
       "      <th>direction</th>\n",
       "      <th>internal</th>\n",
       "      <th>operator_id</th>\n",
       "      <th>is_missed_call</th>\n",
       "      <th>calls_count</th>\n",
       "      <th>call_duration</th>\n",
       "      <th>total_call_duration</th>\n",
       "      <th>waiting_time</th>\n",
       "      <th>tariff_plan</th>\n",
       "      <th>date_start</th>\n",
       "    </tr>\n",
       "  </thead>\n",
       "  <tbody>\n",
       "    <tr>\n",
       "      <th>0</th>\n",
       "      <td>166377</td>\n",
       "      <td>2019-08-04 00:00:00+03:00</td>\n",
       "      <td>in</td>\n",
       "      <td>False</td>\n",
       "      <td>800000</td>\n",
       "      <td>True</td>\n",
       "      <td>2</td>\n",
       "      <td>0</td>\n",
       "      <td>4</td>\n",
       "      <td>4</td>\n",
       "      <td>B</td>\n",
       "      <td>2019-08-01</td>\n",
       "    </tr>\n",
       "    <tr>\n",
       "      <th>1</th>\n",
       "      <td>166377</td>\n",
       "      <td>2019-08-05 00:00:00+03:00</td>\n",
       "      <td>out</td>\n",
       "      <td>True</td>\n",
       "      <td>880022</td>\n",
       "      <td>True</td>\n",
       "      <td>3</td>\n",
       "      <td>0</td>\n",
       "      <td>5</td>\n",
       "      <td>5</td>\n",
       "      <td>B</td>\n",
       "      <td>2019-08-01</td>\n",
       "    </tr>\n",
       "    <tr>\n",
       "      <th>2</th>\n",
       "      <td>166377</td>\n",
       "      <td>2019-08-05 00:00:00+03:00</td>\n",
       "      <td>out</td>\n",
       "      <td>True</td>\n",
       "      <td>880020</td>\n",
       "      <td>True</td>\n",
       "      <td>1</td>\n",
       "      <td>0</td>\n",
       "      <td>1</td>\n",
       "      <td>1</td>\n",
       "      <td>B</td>\n",
       "      <td>2019-08-01</td>\n",
       "    </tr>\n",
       "    <tr>\n",
       "      <th>3</th>\n",
       "      <td>166377</td>\n",
       "      <td>2019-08-05 00:00:00+03:00</td>\n",
       "      <td>out</td>\n",
       "      <td>True</td>\n",
       "      <td>880020</td>\n",
       "      <td>False</td>\n",
       "      <td>1</td>\n",
       "      <td>10</td>\n",
       "      <td>18</td>\n",
       "      <td>8</td>\n",
       "      <td>B</td>\n",
       "      <td>2019-08-01</td>\n",
       "    </tr>\n",
       "    <tr>\n",
       "      <th>4</th>\n",
       "      <td>166377</td>\n",
       "      <td>2019-08-05 00:00:00+03:00</td>\n",
       "      <td>out</td>\n",
       "      <td>False</td>\n",
       "      <td>880022</td>\n",
       "      <td>True</td>\n",
       "      <td>3</td>\n",
       "      <td>0</td>\n",
       "      <td>25</td>\n",
       "      <td>25</td>\n",
       "      <td>B</td>\n",
       "      <td>2019-08-01</td>\n",
       "    </tr>\n",
       "  </tbody>\n",
       "</table>\n",
       "</div>"
      ],
      "text/plain": [
       "   user_id                      date direction  internal  operator_id  \\\n",
       "0   166377 2019-08-04 00:00:00+03:00        in     False       800000   \n",
       "1   166377 2019-08-05 00:00:00+03:00       out      True       880022   \n",
       "2   166377 2019-08-05 00:00:00+03:00       out      True       880020   \n",
       "3   166377 2019-08-05 00:00:00+03:00       out      True       880020   \n",
       "4   166377 2019-08-05 00:00:00+03:00       out     False       880022   \n",
       "\n",
       "   is_missed_call  calls_count  call_duration  total_call_duration  \\\n",
       "0            True            2              0                    4   \n",
       "1            True            3              0                    5   \n",
       "2            True            1              0                    1   \n",
       "3           False            1             10                   18   \n",
       "4            True            3              0                   25   \n",
       "\n",
       "   waiting_time tariff_plan date_start  \n",
       "0             4           B 2019-08-01  \n",
       "1             5           B 2019-08-01  \n",
       "2             1           B 2019-08-01  \n",
       "3             8           B 2019-08-01  \n",
       "4            25           B 2019-08-01  "
      ]
     },
     "execution_count": 77,
     "metadata": {},
     "output_type": "execute_result"
    }
   ],
   "source": [
    "# Unimos los datos de los datasets data y clients\n",
    "merged_data = pd.merge(data, clients, on='user_id')\n",
    "merged_data.head()"
   ]
  },
  {
   "cell_type": "code",
   "execution_count": 78,
   "metadata": {},
   "outputs": [
    {
     "name": "stdout",
     "output_type": "stream",
     "text": [
      "   operator_id tariff_plan  waiting_time\n",
      "0       800000           A        426367\n",
      "1       800000           B        437500\n",
      "2       800000           C        405218\n",
      "3       879896           B         12275\n",
      "4       879898           B        103897\n"
     ]
    }
   ],
   "source": [
    "# Agrupamos los datos de las columnas que necesitamos para la prueba de hipótesis\n",
    "test_group = merged_data.groupby(['operator_id', 'tariff_plan'])['waiting_time'].sum().reset_index()\n",
    "print(test_group.head())"
   ]
  },
  {
   "cell_type": "code",
   "execution_count": 79,
   "metadata": {},
   "outputs": [],
   "source": [
    "# Preparamos los datos para la hipótesis\n",
    "group_b = test_group[test_group['tariff_plan']== 'B']\n",
    "group_c = test_group[test_group['tariff_plan']== 'C']\n",
    "test_group_b = group_b.groupby('operator_id')['waiting_time'].sum()\n",
    "test_group_c = group_c.groupby('operator_id')['waiting_time'].sum()"
   ]
  },
  {
   "cell_type": "code",
   "execution_count": 80,
   "metadata": {},
   "outputs": [
    {
     "name": "stdout",
     "output_type": "stream",
     "text": [
      "valor p:  0.4770483234812346\n",
      "No podemos rechazar la hipótesis nula\n"
     ]
    }
   ],
   "source": [
    "# Prueba de hipótesis\n",
    "alpha = 0.05  # significancia estadística\n",
    "\n",
    "results = st.ttest_ind(test_group_b, test_group_c, equal_var= False)\n",
    "\n",
    "print('valor p: ', results.pvalue) \n",
    "\n",
    "if results.pvalue < alpha: \n",
    "    print(\"Rechazamos la hipótesis nula\")\n",
    "else:\n",
    "    print(\"No podemos rechazar la hipótesis nula\")"
   ]
  },
  {
   "cell_type": "markdown",
   "metadata": {},
   "source": [
    "No podemos rechazar la hipótesis de que el tiempo de espera para las llamadas que realizan los operadores es diferente para el plan de tarifa B y C."
   ]
  },
  {
   "cell_type": "markdown",
   "metadata": {},
   "source": [
    "## Conclusiones\n",
    "<a id=\"Conclusiones\"></a>"
   ]
  },
  {
   "cell_type": "markdown",
   "metadata": {},
   "source": [
    "Después de realizar el análisis de los datos, podemos decir que los operadores ineficaces pueden ser diferentes con forme a las métricas utilizadas, algunos son conciderados ineficaces en el tiempo de espera pero no en las llamadas salientes realizadas. \n",
    "\n",
    "Por ejemplo: \n",
    "\n",
    "**Operadores con más llamadas perdidas:** fueron el \"800000\", \"891410\" y \"885876\".\n",
    "\n",
    "**Operadores con más tiempo de espera:** fueron \"925922\", \"885890\" y \"929428\".\n",
    "\n",
    "**Operadores con menos llamadas salientes:** fueron \"906076\", \"954284\" y \"939698\". \n",
    "\n",
    "Al momento de utilizar la función para identificar a los operadores ineficaces se obtuvo: \n",
    "\n",
    "**Operadores ineficaces:** fueron el \"913942\" y el \"913938\".\n",
    "\n",
    "De acuerdo a los resultados obtenidos de las méticas utilizadas para conocer a los operadores ineficaces podemos ver que los id de los operadores sen diferentes en cada una de las métricas, al final solo se obtuvieron dos operadores que de acuerdo a las méticas establecidas son conciderados como operadores ineficaces."
   ]
  }
 ],
 "metadata": {
  "ExecuteTimeLog": [
   {
    "duration": 2497,
    "start_time": "2024-11-03T18:48:06.493Z"
   },
   {
    "duration": 71,
    "start_time": "2024-11-03T18:48:21.737Z"
   },
   {
    "duration": 13,
    "start_time": "2024-11-03T18:48:31.770Z"
   },
   {
    "duration": 12,
    "start_time": "2024-11-03T18:48:43.589Z"
   },
   {
    "duration": 10,
    "start_time": "2024-11-03T18:49:11.475Z"
   },
   {
    "duration": 6,
    "start_time": "2024-11-03T18:49:22.485Z"
   },
   {
    "duration": 11,
    "start_time": "2024-11-03T18:50:16.808Z"
   },
   {
    "duration": 6,
    "start_time": "2024-11-03T18:50:30.235Z"
   },
   {
    "duration": 9,
    "start_time": "2024-11-03T18:50:49.978Z"
   },
   {
    "duration": 8,
    "start_time": "2024-11-03T18:50:59.284Z"
   },
   {
    "duration": 8,
    "start_time": "2024-11-03T18:51:07.632Z"
   },
   {
    "duration": 18,
    "start_time": "2024-11-03T18:51:44.107Z"
   },
   {
    "duration": 39,
    "start_time": "2024-11-03T18:52:05.528Z"
   },
   {
    "duration": 5,
    "start_time": "2024-11-03T18:52:14.807Z"
   },
   {
    "duration": 5,
    "start_time": "2024-11-03T18:52:56.699Z"
   },
   {
    "duration": 10,
    "start_time": "2024-11-03T18:53:07.584Z"
   },
   {
    "duration": 3,
    "start_time": "2024-11-03T18:53:16.289Z"
   },
   {
    "duration": 8,
    "start_time": "2024-11-03T18:53:27.532Z"
   },
   {
    "duration": 6,
    "start_time": "2024-11-03T18:53:35.419Z"
   },
   {
    "duration": 5,
    "start_time": "2024-11-03T18:53:44.096Z"
   },
   {
    "duration": 5,
    "start_time": "2024-11-03T18:53:54.049Z"
   },
   {
    "duration": 21,
    "start_time": "2024-11-03T18:54:44.527Z"
   },
   {
    "duration": 17,
    "start_time": "2024-11-03T18:55:16.494Z"
   },
   {
    "duration": 889,
    "start_time": "2024-11-03T18:55:27.320Z"
   },
   {
    "duration": 8,
    "start_time": "2024-11-03T18:55:56.725Z"
   },
   {
    "duration": 198,
    "start_time": "2024-11-03T18:56:08.505Z"
   },
   {
    "duration": 8,
    "start_time": "2024-11-03T18:56:33.154Z"
   },
   {
    "duration": 196,
    "start_time": "2024-11-03T18:56:45.581Z"
   },
   {
    "duration": 13,
    "start_time": "2024-11-03T19:01:08.696Z"
   },
   {
    "duration": 170,
    "start_time": "2024-11-03T19:01:19.268Z"
   },
   {
    "duration": 7,
    "start_time": "2024-11-03T19:01:29.810Z"
   },
   {
    "duration": 8,
    "start_time": "2024-11-03T19:01:48.120Z"
   },
   {
    "duration": 9,
    "start_time": "2024-11-03T19:02:16.382Z"
   },
   {
    "duration": 15,
    "start_time": "2024-11-03T19:02:25.146Z"
   },
   {
    "duration": 6,
    "start_time": "2024-11-03T19:02:58.277Z"
   },
   {
    "duration": 3,
    "start_time": "2024-11-03T19:03:33.791Z"
   },
   {
    "duration": 14,
    "start_time": "2024-11-03T19:04:28.997Z"
   },
   {
    "duration": 6,
    "start_time": "2024-11-03T19:04:39.930Z"
   },
   {
    "duration": 19,
    "start_time": "2024-11-03T19:05:43.602Z"
   },
   {
    "duration": 10,
    "start_time": "2024-11-03T19:05:51.096Z"
   },
   {
    "duration": 7,
    "start_time": "2024-11-03T19:06:03.622Z"
   },
   {
    "duration": 4,
    "start_time": "2024-11-03T19:06:10.091Z"
   },
   {
    "duration": 4,
    "start_time": "2024-11-03T19:06:46.234Z"
   },
   {
    "duration": 3,
    "start_time": "2024-11-03T19:07:18.307Z"
   },
   {
    "duration": 889,
    "start_time": "2024-11-04T15:00:20.745Z"
   },
   {
    "duration": 70,
    "start_time": "2024-11-04T15:00:21.636Z"
   },
   {
    "duration": 14,
    "start_time": "2024-11-04T15:00:21.708Z"
   },
   {
    "duration": 10,
    "start_time": "2024-11-04T15:00:21.726Z"
   },
   {
    "duration": 8,
    "start_time": "2024-11-04T15:00:21.738Z"
   },
   {
    "duration": 7,
    "start_time": "2024-11-04T15:00:21.748Z"
   },
   {
    "duration": 11,
    "start_time": "2024-11-04T15:00:21.756Z"
   },
   {
    "duration": 5,
    "start_time": "2024-11-04T15:00:21.769Z"
   },
   {
    "duration": 9,
    "start_time": "2024-11-04T15:00:21.776Z"
   },
   {
    "duration": 10,
    "start_time": "2024-11-04T15:00:21.789Z"
   },
   {
    "duration": 45,
    "start_time": "2024-11-04T15:00:21.800Z"
   },
   {
    "duration": 19,
    "start_time": "2024-11-04T15:00:21.847Z"
   },
   {
    "duration": 36,
    "start_time": "2024-11-04T15:00:21.868Z"
   },
   {
    "duration": 5,
    "start_time": "2024-11-04T15:00:21.906Z"
   },
   {
    "duration": 31,
    "start_time": "2024-11-04T15:00:21.913Z"
   },
   {
    "duration": 11,
    "start_time": "2024-11-04T15:00:21.946Z"
   },
   {
    "duration": 4,
    "start_time": "2024-11-04T15:00:21.959Z"
   },
   {
    "duration": 5,
    "start_time": "2024-11-04T15:00:21.964Z"
   },
   {
    "duration": 7,
    "start_time": "2024-11-04T15:00:21.971Z"
   },
   {
    "duration": 6,
    "start_time": "2024-11-04T15:00:21.980Z"
   },
   {
    "duration": 5,
    "start_time": "2024-11-04T15:00:21.987Z"
   },
   {
    "duration": 63,
    "start_time": "2024-11-04T15:00:21.994Z"
   },
   {
    "duration": 11,
    "start_time": "2024-11-04T15:00:22.059Z"
   },
   {
    "duration": 893,
    "start_time": "2024-11-04T15:00:22.074Z"
   },
   {
    "duration": 9,
    "start_time": "2024-11-04T15:00:22.970Z"
   },
   {
    "duration": 205,
    "start_time": "2024-11-04T15:00:22.980Z"
   },
   {
    "duration": 7,
    "start_time": "2024-11-04T15:00:23.188Z"
   },
   {
    "duration": 256,
    "start_time": "2024-11-04T15:00:23.199Z"
   },
   {
    "duration": 12,
    "start_time": "2024-11-04T15:00:23.456Z"
   },
   {
    "duration": 179,
    "start_time": "2024-11-04T15:00:23.470Z"
   },
   {
    "duration": 7,
    "start_time": "2024-11-04T15:00:23.651Z"
   },
   {
    "duration": 9,
    "start_time": "2024-11-04T15:00:23.660Z"
   },
   {
    "duration": 15,
    "start_time": "2024-11-04T15:00:23.671Z"
   },
   {
    "duration": 5,
    "start_time": "2024-11-04T15:00:23.687Z"
   },
   {
    "duration": 14,
    "start_time": "2024-11-04T15:00:23.693Z"
   },
   {
    "duration": 37,
    "start_time": "2024-11-04T15:00:23.708Z"
   },
   {
    "duration": 19,
    "start_time": "2024-11-04T15:00:23.747Z"
   },
   {
    "duration": 11,
    "start_time": "2024-11-04T15:00:23.768Z"
   },
   {
    "duration": 7,
    "start_time": "2024-11-04T15:00:23.781Z"
   },
   {
    "duration": 4,
    "start_time": "2024-11-04T15:00:23.790Z"
   },
   {
    "duration": 3,
    "start_time": "2024-11-04T17:07:17.401Z"
   },
   {
    "duration": 42,
    "start_time": "2024-11-04T17:07:17.407Z"
   },
   {
    "duration": 14,
    "start_time": "2024-11-04T17:07:17.451Z"
   },
   {
    "duration": 8,
    "start_time": "2024-11-04T17:07:17.468Z"
   },
   {
    "duration": 7,
    "start_time": "2024-11-04T17:07:17.478Z"
   },
   {
    "duration": 5,
    "start_time": "2024-11-04T17:07:17.487Z"
   },
   {
    "duration": 10,
    "start_time": "2024-11-04T17:07:17.494Z"
   },
   {
    "duration": 5,
    "start_time": "2024-11-04T17:07:17.505Z"
   },
   {
    "duration": 8,
    "start_time": "2024-11-04T17:07:17.544Z"
   },
   {
    "duration": 8,
    "start_time": "2024-11-04T17:07:17.554Z"
   },
   {
    "duration": 8,
    "start_time": "2024-11-04T17:07:17.563Z"
   },
   {
    "duration": 17,
    "start_time": "2024-11-04T17:07:17.573Z"
   },
   {
    "duration": 70,
    "start_time": "2024-11-04T17:07:17.592Z"
   },
   {
    "duration": 5,
    "start_time": "2024-11-04T17:07:17.664Z"
   },
   {
    "duration": 4,
    "start_time": "2024-11-04T17:07:17.670Z"
   },
   {
    "duration": 10,
    "start_time": "2024-11-04T17:07:17.676Z"
   },
   {
    "duration": 4,
    "start_time": "2024-11-04T17:07:17.687Z"
   },
   {
    "duration": 6,
    "start_time": "2024-11-04T17:07:17.692Z"
   },
   {
    "duration": 6,
    "start_time": "2024-11-04T17:07:17.699Z"
   },
   {
    "duration": 5,
    "start_time": "2024-11-04T17:07:17.742Z"
   },
   {
    "duration": 6,
    "start_time": "2024-11-04T17:07:17.750Z"
   },
   {
    "duration": 21,
    "start_time": "2024-11-04T17:07:17.757Z"
   },
   {
    "duration": 11,
    "start_time": "2024-11-04T17:07:17.780Z"
   },
   {
    "duration": 858,
    "start_time": "2024-11-04T17:07:17.796Z"
   },
   {
    "duration": 8,
    "start_time": "2024-11-04T17:07:18.656Z"
   },
   {
    "duration": 225,
    "start_time": "2024-11-04T17:07:18.665Z"
   },
   {
    "duration": 8,
    "start_time": "2024-11-04T17:07:18.892Z"
   },
   {
    "duration": 219,
    "start_time": "2024-11-04T17:07:18.902Z"
   },
   {
    "duration": 14,
    "start_time": "2024-11-04T17:07:19.123Z"
   },
   {
    "duration": 171,
    "start_time": "2024-11-04T17:07:19.138Z"
   },
   {
    "duration": 6,
    "start_time": "2024-11-04T17:07:19.311Z"
   },
   {
    "duration": 8,
    "start_time": "2024-11-04T17:07:19.319Z"
   },
   {
    "duration": 14,
    "start_time": "2024-11-04T17:07:19.343Z"
   },
   {
    "duration": 5,
    "start_time": "2024-11-04T17:07:19.359Z"
   },
   {
    "duration": 14,
    "start_time": "2024-11-04T17:07:19.365Z"
   },
   {
    "duration": 6,
    "start_time": "2024-11-04T17:07:19.380Z"
   },
   {
    "duration": 17,
    "start_time": "2024-11-04T17:07:19.388Z"
   },
   {
    "duration": 43,
    "start_time": "2024-11-04T17:07:19.408Z"
   },
   {
    "duration": 6,
    "start_time": "2024-11-04T17:07:19.452Z"
   },
   {
    "duration": 4,
    "start_time": "2024-11-04T17:07:19.461Z"
   },
   {
    "duration": 4,
    "start_time": "2024-11-04T17:07:25.658Z"
   }
  ],
  "kernelspec": {
   "display_name": "Python 3 (ipykernel)",
   "language": "python",
   "name": "python3"
  },
  "language_info": {
   "codemirror_mode": {
    "name": "ipython",
    "version": 3
   },
   "file_extension": ".py",
   "mimetype": "text/x-python",
   "name": "python",
   "nbconvert_exporter": "python",
   "pygments_lexer": "ipython3",
   "version": "3.9.19"
  },
  "toc": {
   "base_numbering": 1,
   "nav_menu": {},
   "number_sections": true,
   "sideBar": true,
   "skip_h1_title": true,
   "title_cell": "Table of Contents",
   "title_sidebar": "Contents",
   "toc_cell": false,
   "toc_position": {},
   "toc_section_display": true,
   "toc_window_display": false
  }
 },
 "nbformat": 4,
 "nbformat_minor": 2
}
